{
 "cells": [
  {
   "cell_type": "markdown",
   "metadata": {},
   "source": [
    "# Monty Hall Simulation\n",
    "## Author - Lisa Karaseva"
   ]
  },
  {
   "cell_type": "markdown",
   "metadata": {},
   "source": [
    "### Summary\n",
    "This notebook presents a simulation variant of the Monty Hall Problem - simulates the conditional probabilities of the distributions for winning a car vs. a goat.\n",
    "https://en.wikipedia.org/wiki/Monty_Hall_problem"
   ]
  },
  {
   "cell_type": "markdown",
   "metadata": {},
   "source": [
    "There are 2 strategies, that the player can use after Monty reveals one of the goat doors - stay or switch. Simulations below show that switch strategy is clearly a winner. It is illustrated both by summary statistics and distribution plots for 10000 trials as well as convergence simulation example, that the win rate for switch strategy is converging to 2/3, while stay strategy has a 1 out of 3 chance to win."
   ]
  },
  {
   "cell_type": "markdown",
   "metadata": {},
   "source": [
    "Recommendation - in order to increase chances to win, the player should always switch the door.\n",
    "\n",
    "Let's see how this can be proved"
   ]
  },
  {
   "cell_type": "code",
   "execution_count": 1,
   "metadata": {},
   "outputs": [],
   "source": [
    "# Import libraries\n",
    "import numpy as np\n",
    "import numpy.random as nr\n",
    "import pandas as pd\n",
    "import seaborn as sns\n",
    "import matplotlib.pyplot as plt"
   ]
  },
  {
   "cell_type": "markdown",
   "metadata": {},
   "source": [
    "In the code chunk below, we are defining the function that will select the door to reveal.\n",
    "This is a deterministic event, so we know which doors should be chosen based on the initial door selection."
   ]
  },
  {
   "cell_type": "code",
   "execution_count": 2,
   "metadata": {},
   "outputs": [],
   "source": [
    "# define reveal action rules\n",
    "def reveal_action(doors):\n",
    "    goats = doors[1:3] # 2 doors with goats\n",
    "    if doors[3] == doors[0]:\n",
    "        return nr.choice(goats) # open either of goat doors when car door is selected\n",
    "    elif doors[3] == goats[0]:\n",
    "        return goats[1] # open another goat door if the goat door was selected\n",
    "    else:\n",
    "        return goats[0] # open another goat door"
   ]
  },
  {
   "cell_type": "markdown",
   "metadata": {},
   "source": [
    "Once Monty reveals one of the \"goat\" doors, the only door to switch to to be the one, that was neither initially selected nor later revealed. The code below provides a function to take care of switch action."
   ]
  },
  {
   "cell_type": "code",
   "execution_count": 3,
   "metadata": {},
   "outputs": [],
   "source": [
    "# select the door to switch to\n",
    "def switch_action(doors):\n",
    "    temp1 = doors[0:3] # for initial doors\n",
    "    temp2 = doors[3:5] # chosen and revealed\n",
    "    # switch\n",
    "    s = set(temp2)\n",
    "    switch = [x for x in temp1 if x not in s] # return the only door that was neither selected or revealed\n",
    "    return switch[0]"
   ]
  },
  {
   "cell_type": "markdown",
   "metadata": {},
   "source": [
    "Here's the main \"game\" function. It generates the whole series of events, starting from stochastic doors generations and player's choice and later addding upon that with reveal and switch actions. Finally, it also determins win flag for both strategies - \"stay\" or \"win\""
   ]
  },
  {
   "cell_type": "code",
   "execution_count": 4,
   "metadata": {},
   "outputs": [],
   "source": [
    "# create a data frame with car and goat doors given the number of trials\n",
    "def game(trials):\n",
    "    games = []\n",
    "    for i in range(trials):    \n",
    "        doors = list(nr.permutation([1,2,3])) # randomly assign door numbers\n",
    "        choice = nr.choice([1,2,3]) # randomly select the door\n",
    "        doors.append(choice)\n",
    "        reveal_choice = reveal_action(doors) # select a door to reveal (determinitic)\n",
    "        doors.append(reveal_choice)\n",
    "        switch_selection = switch_action(doors) # select a door to switch (determinitic)\n",
    "        doors.append(switch_selection)\n",
    "        # assign win or lose variable for \"stay\" strategy\n",
    "        if doors[3] == doors[0]:\n",
    "            doors.append(1) \n",
    "        else:\n",
    "            doors.append(0) \n",
    "        # assign win or lose variable for \"switch\" strategy\n",
    "        if doors[5] == doors[0]:\n",
    "            doors.append(1) \n",
    "        else:\n",
    "            doors.append(0)\n",
    "        # append every game iteration into a list of lists\n",
    "        games.append(list(doors))\n",
    "        \n",
    "    # add all the game options and results into a data frame\n",
    "    data = pd.DataFrame(games, columns = ['car_door', 'goat1_door', 'goat2_door'\n",
    "                                        ,'choice_door','reveal_door','switch_door'\n",
    "                                       ,'stay_win', 'switch_win'])\n",
    "   \n",
    "    return data"
   ]
  },
  {
   "cell_type": "markdown",
   "metadata": {},
   "source": [
    "Now, let's see how \"stay\" and \"switch\" strategies are different. Let's simulate 10000 games, for example."
   ]
  },
  {
   "cell_type": "code",
   "execution_count": 5,
   "metadata": {},
   "outputs": [
    {
     "data": {
      "text/html": [
       "<div>\n",
       "<style scoped>\n",
       "    .dataframe tbody tr th:only-of-type {\n",
       "        vertical-align: middle;\n",
       "    }\n",
       "\n",
       "    .dataframe tbody tr th {\n",
       "        vertical-align: top;\n",
       "    }\n",
       "\n",
       "    .dataframe thead th {\n",
       "        text-align: right;\n",
       "    }\n",
       "</style>\n",
       "<table border=\"1\" class=\"dataframe\">\n",
       "  <thead>\n",
       "    <tr style=\"text-align: right;\">\n",
       "      <th></th>\n",
       "      <th>car_door</th>\n",
       "      <th>goat1_door</th>\n",
       "      <th>goat2_door</th>\n",
       "      <th>choice_door</th>\n",
       "      <th>reveal_door</th>\n",
       "      <th>switch_door</th>\n",
       "      <th>stay_win</th>\n",
       "      <th>switch_win</th>\n",
       "    </tr>\n",
       "  </thead>\n",
       "  <tbody>\n",
       "    <tr>\n",
       "      <th>0</th>\n",
       "      <td>2</td>\n",
       "      <td>3</td>\n",
       "      <td>1</td>\n",
       "      <td>1</td>\n",
       "      <td>3</td>\n",
       "      <td>2</td>\n",
       "      <td>0</td>\n",
       "      <td>1</td>\n",
       "    </tr>\n",
       "    <tr>\n",
       "      <th>1</th>\n",
       "      <td>3</td>\n",
       "      <td>2</td>\n",
       "      <td>1</td>\n",
       "      <td>1</td>\n",
       "      <td>2</td>\n",
       "      <td>3</td>\n",
       "      <td>0</td>\n",
       "      <td>1</td>\n",
       "    </tr>\n",
       "    <tr>\n",
       "      <th>2</th>\n",
       "      <td>3</td>\n",
       "      <td>1</td>\n",
       "      <td>2</td>\n",
       "      <td>1</td>\n",
       "      <td>2</td>\n",
       "      <td>3</td>\n",
       "      <td>0</td>\n",
       "      <td>1</td>\n",
       "    </tr>\n",
       "    <tr>\n",
       "      <th>3</th>\n",
       "      <td>1</td>\n",
       "      <td>3</td>\n",
       "      <td>2</td>\n",
       "      <td>1</td>\n",
       "      <td>2</td>\n",
       "      <td>3</td>\n",
       "      <td>1</td>\n",
       "      <td>0</td>\n",
       "    </tr>\n",
       "    <tr>\n",
       "      <th>4</th>\n",
       "      <td>2</td>\n",
       "      <td>3</td>\n",
       "      <td>1</td>\n",
       "      <td>2</td>\n",
       "      <td>3</td>\n",
       "      <td>1</td>\n",
       "      <td>1</td>\n",
       "      <td>0</td>\n",
       "    </tr>\n",
       "  </tbody>\n",
       "</table>\n",
       "</div>"
      ],
      "text/plain": [
       "   car_door  goat1_door  goat2_door  choice_door  reveal_door  switch_door  \\\n",
       "0         2           3           1            1            3            2   \n",
       "1         3           2           1            1            2            3   \n",
       "2         3           1           2            1            2            3   \n",
       "3         1           3           2            1            2            3   \n",
       "4         2           3           1            2            3            1   \n",
       "\n",
       "   stay_win  switch_win  \n",
       "0         0           1  \n",
       "1         0           1  \n",
       "2         0           1  \n",
       "3         1           0  \n",
       "4         1           0  "
      ]
     },
     "execution_count": 5,
     "metadata": {},
     "output_type": "execute_result"
    }
   ],
   "source": [
    "data = game(10000)\n",
    "# let's see how the data looks like\n",
    "data.head()"
   ]
  },
  {
   "cell_type": "code",
   "execution_count": 6,
   "metadata": {},
   "outputs": [
    {
     "data": {
      "text/html": [
       "<div>\n",
       "<style scoped>\n",
       "    .dataframe tbody tr th:only-of-type {\n",
       "        vertical-align: middle;\n",
       "    }\n",
       "\n",
       "    .dataframe tbody tr th {\n",
       "        vertical-align: top;\n",
       "    }\n",
       "\n",
       "    .dataframe thead th {\n",
       "        text-align: right;\n",
       "    }\n",
       "</style>\n",
       "<table border=\"1\" class=\"dataframe\">\n",
       "  <thead>\n",
       "    <tr style=\"text-align: right;\">\n",
       "      <th></th>\n",
       "      <th>stay_win</th>\n",
       "      <th>switch_win</th>\n",
       "    </tr>\n",
       "  </thead>\n",
       "  <tbody>\n",
       "    <tr>\n",
       "      <th>count</th>\n",
       "      <td>10000.000000</td>\n",
       "      <td>10000.000000</td>\n",
       "    </tr>\n",
       "    <tr>\n",
       "      <th>mean</th>\n",
       "      <td>0.336400</td>\n",
       "      <td>0.663600</td>\n",
       "    </tr>\n",
       "    <tr>\n",
       "      <th>std</th>\n",
       "      <td>0.472501</td>\n",
       "      <td>0.472501</td>\n",
       "    </tr>\n",
       "    <tr>\n",
       "      <th>min</th>\n",
       "      <td>0.000000</td>\n",
       "      <td>0.000000</td>\n",
       "    </tr>\n",
       "    <tr>\n",
       "      <th>25%</th>\n",
       "      <td>0.000000</td>\n",
       "      <td>0.000000</td>\n",
       "    </tr>\n",
       "    <tr>\n",
       "      <th>50%</th>\n",
       "      <td>0.000000</td>\n",
       "      <td>1.000000</td>\n",
       "    </tr>\n",
       "    <tr>\n",
       "      <th>75%</th>\n",
       "      <td>1.000000</td>\n",
       "      <td>1.000000</td>\n",
       "    </tr>\n",
       "    <tr>\n",
       "      <th>max</th>\n",
       "      <td>1.000000</td>\n",
       "      <td>1.000000</td>\n",
       "    </tr>\n",
       "  </tbody>\n",
       "</table>\n",
       "</div>"
      ],
      "text/plain": [
       "           stay_win    switch_win\n",
       "count  10000.000000  10000.000000\n",
       "mean       0.336400      0.663600\n",
       "std        0.472501      0.472501\n",
       "min        0.000000      0.000000\n",
       "25%        0.000000      0.000000\n",
       "50%        0.000000      1.000000\n",
       "75%        1.000000      1.000000\n",
       "max        1.000000      1.000000"
      ]
     },
     "execution_count": 6,
     "metadata": {},
     "output_type": "execute_result"
    }
   ],
   "source": [
    "# summary statistics for stay and win strategies\n",
    "data.loc[:,['stay_win', 'switch_win']].describe()"
   ]
  },
  {
   "cell_type": "code",
   "execution_count": 7,
   "metadata": {},
   "outputs": [
    {
     "data": {
      "image/png": "[encoded data removed]",
      "text/plain": [
       "<Figure size 432x216 with 2 Axes>"
      ]
     },
     "metadata": {
      "needs_background": "light"
     },
     "output_type": "display_data"
    }
   ],
   "source": [
    "# prepare data for a side-by-side histogram\n",
    "data_for_hist = pd.melt(data.loc[:,['stay_win', 'switch_win']], var_name = 'strategy', value_name = 'win_flag')\n",
    "# build a histogram\n",
    "g = sns.FacetGrid(data_for_hist, col = \"strategy\")\n",
    "g = g.map(sns.distplot, \"win_flag\", color=\"m\")"
   ]
  },
  {
   "cell_type": "markdown",
   "metadata": {},
   "source": [
    "You can clearly see how switching strategy is better. To prove this point further, let's create another function that will calculate win rates for both strategies from a single trial and up to a given number of trials."
   ]
  },
  {
   "cell_type": "code",
   "execution_count": 8,
   "metadata": {},
   "outputs": [],
   "source": [
    "# calculate probabilities of win for every strategy starting from 1 trial to the maximum number of trials\n",
    "def iterations(max_trials):\n",
    "    trials = []\n",
    "    stay = []\n",
    "    switch = []\n",
    "    for i in range(max_trials):\n",
    "        trials.append(i + 1)\n",
    "        gameplays = game(trials = i + 1)\n",
    "        stay_temp = sum(gameplays.stay_win)/len(gameplays.stay_win)\n",
    "        stay.append(stay_temp)\n",
    "        switch_temp = sum(gameplays.switch_win)/len(gameplays.switch_win)\n",
    "        switch.append(switch_temp)\n",
    "    \n",
    "    d = {'trials': trials, 'stay': stay, 'switch': switch}\n",
    "    df = pd.DataFrame(data = d)\n",
    "    df = pd.melt(df, id_vars = 'trials', \n",
    "                  var_name = 'strategy', value_name = 'probability_of_win')\n",
    "    \n",
    "    return df"
   ]
  },
  {
   "cell_type": "markdown",
   "metadata": {},
   "source": [
    "Let's apply this function to games with 1 to 1000 of rounds. It will take a minute or so :) You can also try 10000, but it may take much longer"
   ]
  },
  {
   "cell_type": "code",
   "execution_count": 9,
   "metadata": {},
   "outputs": [],
   "source": [
    "data = iterations(1000)"
   ]
  },
  {
   "cell_type": "code",
   "execution_count": 10,
   "metadata": {},
   "outputs": [
    {
     "data": {
      "text/plain": [
       "Text(0.5, 1.0, 'Monty Hall Problem Simulation: convergence to true probabilities')"
      ]
     },
     "execution_count": 10,
     "metadata": {},
     "output_type": "execute_result"
    },
    {
     "data": {
      "image/png": "[encoded data removed]",
      "text/plain": [
       "<Figure size 432x288 with 1 Axes>"
      ]
     },
     "metadata": {
      "needs_background": "light"
     },
     "output_type": "display_data"
    }
   ],
   "source": [
    "# build a lineplot for both strategies to display convergence\n",
    "sns.lineplot(x = 'trials'\n",
    "                , y = 'probability_of_win'\n",
    "                , hue = 'strategy'\n",
    "                , legend = 'full'\n",
    "                , err_kws = {'alpha':0.3}\n",
    "                , data = data)\n",
    "ax = plt.gca()\n",
    "ax.set_title('Monty Hall Problem Simulation: convergence to true probabilities')"
   ]
  },
  {
   "cell_type": "markdown",
   "metadata": {},
   "source": [
    "You can see that the winning strategy of switching has a chance of 2/3 to win; Stay is only 1/3 "
   ]
  }
 ],
 "metadata": {
  "kernelspec": {
   "display_name": "Python 3",
   "language": "python",
   "name": "python3"
  },
  "language_info": {
   "codemirror_mode": {
    "name": "ipython",
    "version": 3
   },
   "file_extension": ".py",
   "mimetype": "text/x-python",
   "name": "python",
   "nbconvert_exporter": "python",
   "pygments_lexer": "ipython3",
   "version": "3.6.8"
  }
 },
 "nbformat": 4,
 "nbformat_minor": 2
}
